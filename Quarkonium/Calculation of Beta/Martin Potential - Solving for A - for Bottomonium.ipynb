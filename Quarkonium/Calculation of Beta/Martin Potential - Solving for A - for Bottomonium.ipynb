{
 "cells": [
  {
   "cell_type": "markdown",
   "id": "ee095a1e",
   "metadata": {},
   "source": [
    "Import numpy, scipy, and matplotlib and define constants"
   ]
  },
  {
   "cell_type": "code",
   "execution_count": 7,
   "id": "4e6448e8",
   "metadata": {},
   "outputs": [],
   "source": [
    "import numpy as np\n",
    "import scipy as scipy\n",
    "from scipy.integrate import odeint\n",
    "import matplotlib.pyplot as plt\n",
    "r = np.linspace(0.0000001,15,1500) #GeV-1\n",
    "\n",
    "#constants\n",
    "m1 = 4.7\n",
    "m2 = 4.7\n",
    "#GeV/c^2 Mass of the Bottomonium\n",
    "invmu = 1/m1 + 1/m2\n",
    "mu = 1/invmu\n",
    "u0 = np.array([0.,1.0]) #dots to make sure number is real\n",
    "c = 6.87\n",
    "d = 0.1 #- solving for this\n",
    "#A = -7.8613\n",
    "E = 9.402-m1-m2 #GeV/c^2 Mass of Bottomonium Ground State - Mass of individual Bottom Quarks"
   ]
  },
  {
   "cell_type": "markdown",
   "id": "cb8a0493",
   "metadata": {},
   "source": [
    "Model with float energy"
   ]
  },
  {
   "cell_type": "code",
   "execution_count": 8,
   "id": "a16db75b",
   "metadata": {},
   "outputs": [],
   "source": [
    "def model_E(u,r,l,A):\n",
    "    dvdr = (u[0]*l*(l+1))/(r**2) - 2*mu*u[0]*(E - c*(r**d) - A)\n",
    "    return (u[1],dvdr)"
   ]
  },
  {
   "cell_type": "markdown",
   "id": "9e7dba7f",
   "metadata": {},
   "source": [
    "Code to Normalise the Wavefunction"
   ]
  },
  {
   "cell_type": "code",
   "execution_count": 9,
   "id": "f71b10b5",
   "metadata": {},
   "outputs": [],
   "source": [
    "def square(list):\n",
    "    ret = []\n",
    "    for i in list:\n",
    "        ret.append(i ** 2)\n",
    "    return ret\n",
    "\n",
    "\n",
    "\n",
    "def normalize_psi(psi, r):\n",
    "    int_psi_square = scipy.integrate.simps(square(psi), r)\n",
    "    return psi**2/(int_psi_square)\n",
    "\n",
    "def square_psi(psi):\n",
    "    return (np.array(psi))**2"
   ]
  },
  {
   "cell_type": "markdown",
   "id": "adbf2157",
   "metadata": {},
   "source": [
    "Code to find turning points and nodes"
   ]
  },
  {
   "cell_type": "code",
   "execution_count": 10,
   "id": "a44a55b9",
   "metadata": {},
   "outputs": [],
   "source": [
    "def turning_points(x):\n",
    "    number_tps = 0\n",
    "    for i in range(1, len(x)-1):\n",
    "        if ((x[i-1] < x[i] and x[i+1] < x[i]) or (x[i-1] > x[i] and x[i+1] > x[i])):\n",
    "            number_tps += 1\n",
    "    return number_tps\n",
    "\n",
    "def nodes(x):\n",
    "    number_ns = 0\n",
    "    for i in range(0, len(x)-1):\n",
    "        if x[i]*x[i+1]<0:\n",
    "            number_ns += 1\n",
    "    return number_ns"
   ]
  },
  {
   "cell_type": "markdown",
   "id": "f86a4426",
   "metadata": {},
   "source": [
    "Iteration code to find the energy of a given, l state and and a known energy range. ENERGY RANGE MUST BE FAIRLY CLOSE TO CORRECT ENERGY."
   ]
  },
  {
   "cell_type": "code",
   "execution_count": 11,
   "id": "197d3f12",
   "metadata": {},
   "outputs": [],
   "source": [
    "def beta_search(l,E1,E3):\n",
    "    plt.xlabel(\"Distance from Nucleus ($MeV$)\")\n",
    "    plt.ylabel(\"Radial Probability Density, $|u_n,l|^2$\")\n",
    "    plt.legend(loc = \"upper right\")\n",
    "    for i in range(1000):\n",
    "        E2 = 0.5*(E1 + E3)\n",
    "        a = odeint(model_E,u0,r, args = (l,E1))[:,0]\n",
    "        b = odeint(model_E,u0,r, args = (l,E2))[:,0]\n",
    "        c = odeint(model_E,u0,r, args = (l,E3))[:,0]  \n",
    "        if turning_points(a) != turning_points(b) and nodes(a) != nodes(b):\n",
    "            E3 = E2\n",
    "        elif turning_points(b) != turning_points(c) and nodes(b) != nodes(c):\n",
    "            E1 = E2\n",
    "    return E2, plt.plot(r,square_psi(normalize_psi(b,r)), color = 'red')"
   ]
  },
  {
   "cell_type": "markdown",
   "id": "2acf4e35",
   "metadata": {},
   "source": [
    "Now testing the code for the n = 2, l = 0 level"
   ]
  },
  {
   "cell_type": "code",
   "execution_count": 12,
   "id": "84e135d2",
   "metadata": {},
   "outputs": [
    {
     "name": "stderr",
     "output_type": "stream",
     "text": [
      "No artists with labels found to put in legend.  Note that artists whose label start with an underscore are ignored when legend() is called with no argument.\n"
     ]
    },
    {
     "data": {
      "text/plain": [
       "(-7.192813844661435, [<matplotlib.lines.Line2D at 0x7fcb75454f70>])"
      ]
     },
     "execution_count": 12,
     "metadata": {},
     "output_type": "execute_result"
    },
    {
     "data": {
      "image/png": "[encoded data removed]",
      "text/plain": [
       "<Figure size 432x288 with 1 Axes>"
      ]
     },
     "metadata": {
      "needs_background": "light"
     },
     "output_type": "display_data"
    }
   ],
   "source": [
    "beta_search(0,-7,-8.5)"
   ]
  },
  {
   "cell_type": "markdown",
   "id": "e8f30eae",
   "metadata": {},
   "source": [
    "Now testing the code for the n = 2, l = 1 level"
   ]
  },
  {
   "cell_type": "code",
   "execution_count": 7,
   "id": "e6480a42",
   "metadata": {},
   "outputs": [
    {
     "ename": "NameError",
     "evalue": "name 'energy_iterate' is not defined",
     "output_type": "error",
     "traceback": [
      "\u001b[0;31m---------------------------------------------------------------------------\u001b[0m",
      "\u001b[0;31mNameError\u001b[0m                                 Traceback (most recent call last)",
      "Input \u001b[0;32mIn [7]\u001b[0m, in \u001b[0;36m<cell line: 1>\u001b[0;34m()\u001b[0m\n\u001b[0;32m----> 1\u001b[0m \u001b[43menergy_iterate\u001b[49m(\u001b[38;5;241m1\u001b[39m,\u001b[38;5;241m0.6\u001b[39m,\u001b[38;5;241m3\u001b[39m)\n",
      "\u001b[0;31mNameError\u001b[0m: name 'energy_iterate' is not defined"
     ]
    }
   ],
   "source": [
    "energy_iterate(1,0.6,3)"
   ]
  },
  {
   "cell_type": "code",
   "execution_count": null,
   "id": "bb28455b",
   "metadata": {},
   "outputs": [],
   "source": [
    "energy_iterate(1,0.85,3)"
   ]
  },
  {
   "cell_type": "markdown",
   "id": "54801814",
   "metadata": {},
   "source": [
    "Now testing the code for the n = 0, l = 1 level"
   ]
  },
  {
   "cell_type": "code",
   "execution_count": null,
   "id": "9eb3788d",
   "metadata": {},
   "outputs": [],
   "source": [
    "energy_iterate(0,0.01, 0.5)\n",
    "#plt.savefig('Radial_Probability_Density of the (2,1) state.png', dpi=600, bbox_inches='tight')"
   ]
  },
  {
   "cell_type": "markdown",
   "id": "9fc04eec",
   "metadata": {},
   "source": [
    "Now we plot all energy levels on one graph"
   ]
  },
  {
   "cell_type": "code",
   "execution_count": 13,
   "id": "2fde88a2",
   "metadata": {},
   "outputs": [],
   "source": [
    "def energy_iterate_total(l,E1,E3):\n",
    "    for i in range(1000):\n",
    "        E2 = 0.5*(E1 + E3)\n",
    "        a = odeint(model_E,u0,r, args = (l,E1))[:,0]\n",
    "        b = odeint(model_E,u0,r, args = (l,E2))[:,0]\n",
    "        c = odeint(model_E,u0,r, args = (l,E3))[:,0]  \n",
    "        if turning_points(a) != turning_points(b) and nodes(a) != nodes(b):\n",
    "            E3 = E2\n",
    "        elif turning_points(b) != turning_points(c) and nodes(b) != nodes(c):\n",
    "            E1 = E2\n",
    "    return square_psi(normalize_psi(b,r))"
   ]
  },
  {
   "cell_type": "code",
   "execution_count": 14,
   "id": "1289209c",
   "metadata": {},
   "outputs": [
    {
     "data": {
      "image/png": "[encoded data removed]",
      "text/plain": [
       "<Figure size 432x288 with 1 Axes>"
      ]
     },
     "metadata": {
      "needs_background": "light"
     },
     "output_type": "display_data"
    }
   ],
   "source": [
    "n1l0 = energy_iterate_total(0,-0.02,0.01)\n",
    "n2l0 = energy_iterate_total(0,-9.9e-06,-1.0e-6)\n",
    "n2l1 = energy_iterate_total(1,-9.9e-06,-1.0e-6)\n",
    "plt.plot(r,n1l0, label = 'n = 1, l = 0', color = \"green\")\n",
    "plt.plot(r,n2l0, label = 'n = 2, l = 0', color = 'blue')\n",
    "plt.plot(r,n2l1, label = 'n = 2, l = 1', color = \"red\")\n",
    "plt.xlabel(\"Distance from Nucleus ($MeV$)\")\n",
    "plt.ylabel(\"Radial Probability Density, $|u_n,l|^2$\")\n",
    "plt.legend(loc = \"upper right\")\n",
    "plt.savefig('Radial_Probability_Density of the all states.png', dpi=600, bbox_inches='tight')"
   ]
  },
  {
   "cell_type": "code",
   "execution_count": null,
   "id": "d5ef65bb",
   "metadata": {},
   "outputs": [],
   "source": [
    "p = [1,2,3,4,5,6,7,8,9,10]\n",
    "q = [2,4,8,16,32,64,128,256,512,1024]\n",
    "sum(square(normalize_psi(q,p)))\n",
    "\n"
   ]
  },
  {
   "cell_type": "code",
   "execution_count": null,
   "id": "3697a53e",
   "metadata": {},
   "outputs": [],
   "source": []
  }
 ],
 "metadata": {
  "kernelspec": {
   "display_name": "Python 3 (ipykernel)",
   "language": "python",
   "name": "python3"
  },
  "language_info": {
   "codemirror_mode": {
    "name": "ipython",
    "version": 3
   },
   "file_extension": ".py",
   "mimetype": "text/x-python",
   "name": "python",
   "nbconvert_exporter": "python",
   "pygments_lexer": "ipython3",
   "version": "3.9.12"
  }
 },
 "nbformat": 4,
 "nbformat_minor": 5
}
