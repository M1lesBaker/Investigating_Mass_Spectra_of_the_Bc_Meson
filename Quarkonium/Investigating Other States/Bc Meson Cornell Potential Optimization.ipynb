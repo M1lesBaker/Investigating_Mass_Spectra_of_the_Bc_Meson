{
 "cells": [
  {
   "cell_type": "code",
   "execution_count": 2,
   "id": "6fa38ae4",
   "metadata": {},
   "outputs": [],
   "source": [
    "#constants\n",
    "import numpy as np\n",
    "import scipy as scipy\n",
    "from scipy.integrate import odeint\n",
    "import matplotlib.pyplot as plt\n",
    "r = np.linspace(0.0000001,15,1500) #GeV-1\n",
    "\n",
    "#constants\n",
    "m1 = 1.275\n",
    "m2 = 4.65\n",
    "#GeV/c^2 Mass of the Chamarium\n",
    "invmu = 1/m1 + 1/m2\n",
    "mu = 1/invmu\n",
    "u0 = np.array([0.,1.0]) #dots to make sure number is real\n",
    "#intital guesses for a and b:\n",
    "#a = 0.2\n",
    "#b = 0.19"
   ]
  },
  {
   "cell_type": "code",
   "execution_count": 3,
   "id": "3c82d8f5",
   "metadata": {},
   "outputs": [],
   "source": [
    "def model_E(u,r,l,E,a,b):\n",
    "    dvdr = (u[0]*l*(l+1))/(r**2) - 2*mu*u[0]*(E + ((4*a)/(3*r)) - b*r)\n",
    "    return (u[1],dvdr)\n",
    "\n",
    "def normalize_psi(psi, r):\n",
    "    int_psi_square = scipy.integrate.simps((psi) ** 2, r)\n",
    "    return psi/np.sqrt(int_psi_square)\n",
    "\n",
    "def square_psi(psi):\n",
    "    return (np.array(psi))**2\n",
    "\n",
    "def turning_points(x):\n",
    "    number_tps = 0\n",
    "    for i in range(1, len(x)-1):\n",
    "        if ((x[i-1] < x[i] and x[i+1] < x[i]) or (x[i-1] > x[i] and x[i+1] > x[i])):\n",
    "            number_tps += 1\n",
    "    return number_tps\n",
    "\n",
    "def nodes(x):\n",
    "    number_ns = 0\n",
    "    for i in range(0, len(x)-1):\n",
    "        if x[i]*x[i+1]<0:\n",
    "            number_ns += 1\n",
    "    return number_ns"
   ]
  },
  {
   "cell_type": "code",
   "execution_count": 4,
   "id": "f1af9f84",
   "metadata": {},
   "outputs": [],
   "source": [
    "def energy_iterate(l,E1,E3,a,b):\n",
    "    #plt.xlabel(\"Distance from Nucleus ($MeV$)\")\n",
    "    #plt.ylabel(\"Radial Probability Density, $|u_n,l|^2$\")\n",
    "    #plt.legend(loc = \"upper right\")\n",
    "    for i in range(10):\n",
    "        E2 = 0.5*(E1 + E3)\n",
    "        aa = odeint(model_E,u0,r, args = (l,E1,a,b))[:,0]\n",
    "        b = odeint(model_E,u0,r, args = (l,E2,a,b))[:,0]\n",
    "        c = odeint(model_E,u0,r, args = (l,E3,a,b))[:,0]  \n",
    "        if turning_points(aa) != turning_points(b) and nodes(aa) != nodes(b):\n",
    "            E3 = E2\n",
    "        elif turning_points(b) != turning_points(c) and nodes(b) != nodes(c):\n",
    "            E1 = E2\n",
    "    return E2#, plt.plot(r,square_psi(normalize_psi(b,r)), color = 'red')"
   ]
  },
  {
   "cell_type": "code",
   "execution_count": 5,
   "id": "149e8cd8",
   "metadata": {},
   "outputs": [],
   "source": [
    "def a_iterate(l,a1,a3,E,b):\n",
    "    #plt.xlabel(\"Distance from Nucleus ($MeV$)\")\n",
    "    #plt.ylabel(\"Radial Probability Density, $|u_n,l|^2$\")\n",
    "    #plt.legend(loc = \"upper right\")\n",
    "    for i in range(10):\n",
    "        a2 = 0.5*(a1 + a3)\n",
    "        aa = odeint(model_E,u0,r, args = (l,E,a1,b))[:,0]\n",
    "        b = odeint(model_E,u0,r, args = (l,E,a2,b))[:,0]\n",
    "        c = odeint(model_E,u0,r, args = (l,E,a3,b))[:,0]  \n",
    "        if turning_points(aa) != turning_points(b) and nodes(aa) != nodes(b):\n",
    "            a3 = a2\n",
    "        elif turning_points(b) != turning_points(c) and nodes(b) != nodes(c):\n",
    "            a1 = a2\n",
    "    return a2#, plt.plot(r,square_psi(normalize_psi(b,r)), color = 'red')"
   ]
  },
  {
   "cell_type": "code",
   "execution_count": 16,
   "id": "efc24ecf",
   "metadata": {},
   "outputs": [],
   "source": [
    "def b_iterate(l,b1,b3,E,a):\n",
    "    plt.xlabel(\"Distance from Nucleus ($MeV$)\")\n",
    "    plt.ylabel(\"Radial Probability Density, $|u_n,l|^2$\")\n",
    "    plt.legend(loc = \"upper right\")\n",
    "    for i in range(100):\n",
    "        b2 = 0.5*(b1 + b3)\n",
    "        aa = odeint(model_E,u0,r, args = (l,E,a,b1))[:,0]\n",
    "        bb = odeint(model_E,u0,r, args = (l,E,a,b2))[:,0]\n",
    "        c = odeint(model_E,u0,r, args = (l,E,a,b3))[:,0]  \n",
    "        if turning_points(aa) != turning_points(bb) and nodes(aa) != nodes(bb):\n",
    "            b3 = b2\n",
    "        elif turning_points(bb) != turning_points(c) and nodes(bb) != nodes(c):\n",
    "            b1 = b2\n",
    "    return b2, plt.plot(r,square_psi(normalize_psi(bb,r)), color = 'red')"
   ]
  },
  {
   "cell_type": "code",
   "execution_count": 22,
   "id": "3145abe0",
   "metadata": {},
   "outputs": [
    {
     "name": "stderr",
     "output_type": "stream",
     "text": [
      "No artists with labels found to put in legend.  Note that artists whose label start with an underscore are ignored when legend() is called with no argument.\n"
     ]
    },
    {
     "data": {
      "text/plain": [
       "(0.19457191694958292, [<matplotlib.lines.Line2D at 0x7fbd669af0a0>])"
      ]
     },
     "execution_count": 22,
     "metadata": {},
     "output_type": "execute_result"
    },
    {
     "data": {
      "image/png": "[encoded data removed]",
      "text/plain": [
       "<Figure size 432x288 with 1 Axes>"
      ]
     },
     "metadata": {
      "needs_background": "light"
     },
     "output_type": "display_data"
    }
   ],
   "source": [
    "b_iterate(0,0.1,0.5,0.345,0.30)"
   ]
  },
  {
   "cell_type": "code",
   "execution_count": null,
   "id": "853c1afd",
   "metadata": {},
   "outputs": [],
   "source": []
  }
 ],
 "metadata": {
  "kernelspec": {
   "display_name": "Python 3 (ipykernel)",
   "language": "python",
   "name": "python3"
  },
  "language_info": {
   "codemirror_mode": {
    "name": "ipython",
    "version": 3
   },
   "file_extension": ".py",
   "mimetype": "text/x-python",
   "name": "python",
   "nbconvert_exporter": "python",
   "pygments_lexer": "ipython3",
   "version": "3.9.12"
  }
 },
 "nbformat": 4,
 "nbformat_minor": 5
}
