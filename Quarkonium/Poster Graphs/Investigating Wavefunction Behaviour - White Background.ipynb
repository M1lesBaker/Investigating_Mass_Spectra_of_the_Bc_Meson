{
 "cells": [
  {
   "cell_type": "code",
   "execution_count": 2,
   "id": "2cf37887",
   "metadata": {},
   "outputs": [],
   "source": [
    "import numpy as np\n",
    "import scipy as scipy\n",
    "from scipy.integrate import odeint\n",
    "import matplotlib.pyplot as plt\n",
    "r = np.linspace(0.0000001,10.3,1500) #GeV-1\n",
    "\n",
    "#constants\n",
    "m1 = 1.34\n",
    "m2 = 1.34\n",
    "#GeV/c^2 Mass of the Chamarium\n",
    "invmu = 1/m1 + 1/m2\n",
    "mu = 1/invmu\n",
    "u0 = np.array([0.,1.0]) #dots to make sure number is real\n",
    "a = 0.4 #dimensionless strong coupling constant\n",
    "b = 0.1951228915397701 #GeV^2"
   ]
  },
  {
   "cell_type": "code",
   "execution_count": 3,
   "id": "4db50985",
   "metadata": {},
   "outputs": [],
   "source": [
    "def model_E(u,r,l,E):\n",
    "    dvdr = (u[0]*l*(l+1))/(r**2) - 2*mu*u[0]*(E + ((4*a)/(3*r)) - b*r)\n",
    "    return (u[1],dvdr)"
   ]
  },
  {
   "cell_type": "code",
   "execution_count": 4,
   "id": "a8c38fc7",
   "metadata": {},
   "outputs": [],
   "source": [
    "def normalize_psi(psi, r):\n",
    "    int_psi_square = scipy.integrate.simps(abs(psi) ** 2, r)\n",
    "    return psi/np.sqrt(int_psi_square)\n",
    "\n",
    "def square_psi(psi):\n",
    "    return (np.array(psi))**2"
   ]
  },
  {
   "cell_type": "code",
   "execution_count": 11,
   "id": "39ec6fde",
   "metadata": {},
   "outputs": [
    {
     "data": {
      "image/png": "[encoded data removed]",
      "text/plain": [
       "<Figure size 432x288 with 1 Axes>"
      ]
     },
     "metadata": {
      "needs_background": "light"
     },
     "output_type": "display_data"
    }
   ],
   "source": [
    "lower = normalize_psi(odeint(model_E,u0,r, args = (0, 0.3870))[:,0],r)\n",
    "exact = normalize_psi(odeint(model_E,u0,r, args = (0, 0.3879882813))[:,0],r)\n",
    "upper = normalize_psi(odeint(model_E,u0,r, args = (0, 0.3890))[:,0],r)\n",
    "fig = plt.figure()\n",
    "\n",
    "#plt.style.use('dark_background')\n",
    "#fig.patch.set_facecolor('red')\n",
    "ax = fig.add_subplot(111)\n",
    "plt.plot(r, lower, label = 'E = 0.3870 GeV', color = \"red\")\n",
    "plt.plot(r, exact, label = 'E = 0.3880 GeV', color = 'green')\n",
    "plt.plot(r, upper, label = 'E = 0.3890 GeV', color = \"blue\")\n",
    "#plt.legend(loc = \"upper left\")\n",
    "plt.xlabel(\"Quark Separation ($GeV^{-1}$)\", color = \"black\")#, fontsize = 'large')\n",
    "plt.ylabel(\"Radial Wavefunction, $(|u_{n,l}|)$\", color = 'black')#, fontsize = 'large')\n",
    "#ax.tick_params(axis = 'x', colors = 'white')\n",
    "#ax.tick_params(axis = 'y', colors = 'white')\n",
    "#ax.legend(loc = 'upper left', framealpha = 0, frameon = False, labelcolor = 'white', fontsize = 'large')\n",
    "\n",
    "\n",
    "#ax.patch.set_alpha(0)\n",
    "#ax.spines['bottom'].set_color('white')\n",
    "#ax.spines['top'].set_color('white')\n",
    "#ax.spines['left'].set_color('white')\n",
    "#ax.spines['right'].set_color('white')\n",
    "plt.savefig('Wavefunction Investigation2.png', dpi = 600,bbox_inches='tight')\n",
    "plt.ylim([-1.5,1.5])\n",
    "plt.xlim([0.0,10])\n",
    "plt.show()\n"
   ]
  },
  {
   "cell_type": "code",
   "execution_count": 6,
   "id": "e2a14d26",
   "metadata": {},
   "outputs": [
    {
     "data": {
      "text/plain": [
       "145.53451489588136"
      ]
     },
     "execution_count": 6,
     "metadata": {},
     "output_type": "execute_result"
    }
   ],
   "source": [
    "sum(square_psi(exact))"
   ]
  },
  {
   "cell_type": "code",
   "execution_count": null,
   "id": "a1aaa8a0",
   "metadata": {},
   "outputs": [],
   "source": []
  },
  {
   "cell_type": "code",
   "execution_count": null,
   "id": "30ee54b7",
   "metadata": {},
   "outputs": [],
   "source": []
  }
 ],
 "metadata": {
  "kernelspec": {
   "display_name": "Python 3 (ipykernel)",
   "language": "python",
   "name": "python3"
  },
  "language_info": {
   "codemirror_mode": {
    "name": "ipython",
    "version": 3
   },
   "file_extension": ".py",
   "mimetype": "text/x-python",
   "name": "python",
   "nbconvert_exporter": "python",
   "pygments_lexer": "ipython3",
   "version": "3.9.12"
  }
 },
 "nbformat": 4,
 "nbformat_minor": 5
}
